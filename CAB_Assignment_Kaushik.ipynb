{
 "cells": [
  {
   "cell_type": "markdown",
   "metadata": {
    "id": "6jprQ7IFBY9b"
   },
   "source": [
    "# **Question 1 : Visualizing Pleiades cluster**\n",
    "\n",
    "Our beloved astronomy club, Krittika, is named after one of the most conspicuous star cluster in the sky, Pleiades. The CSV file stardata.csv\n",
    "contains four columns of data, which contain the following data for 196 stars in the cluster:\n",
    "\n",
    "\n",
    "*   Column 1: RA of each star in degrees\n",
    "*   Column 2: Declination of each star in degrees\n",
    "*   Column 3: Parallax of each star in milliarcseconds (mas)\n",
    "*   Column 4: Apparent Magnitude of the star\n",
    "\n",
    "\n",
    "Parallax $p$ of a star is directly related to its distance $d$ as $d$ in parsecs $= \\frac{1}{p}$ where parallax is in arcseconds.\n",
    "\n",
    "Before proceeding, you need to be able to read the csv file contents, and since the assignment involves graphs, you might want to import some things as well:"
   ]
  },
  {
   "cell_type": "code",
   "execution_count": 1,
   "metadata": {
    "id": "wFuuIRbqCIRL"
   },
   "outputs": [],
   "source": [
    "#put your import statements here\n",
    "import numpy as np\n",
    "import pandas as pd\n",
    "from matplotlib import pyplot as plt\n",
    "\n",
    "#use one of the imported libraries to read the contents of csv file in a neat form\n",
    "data = pd.read_csv(\"stardata.csv\", names = ['RA', 'Declination', 'Parallax', 'm'])"
   ]
  },
  {
   "cell_type": "markdown",
   "metadata": {
    "id": "tRub3yySCcbd"
   },
   "source": [
    "A little background on magnitude of a star:\n",
    "\n",
    "Magnitudes in Astronomy are a way to describe how bright an object (in our case, a star) is:\n",
    "\n",
    "**Apparent magnitude**: Apparent magnitude ($m$) is a measure of the brightness of a star or any other astronomical object observed from the earth. It is similar to the decibel system for sound in that magnitudes are logarithmic and can be calculated according to the formula\n",
    "$$m = -2.5 \\log  { \\left ( \\dfrac{F}{F_0} \\right )} $$\n",
    "where $F$ is the flux from the star (measured in $W/m^2$), and $F_0$ is a reference flux. \n",
    "\n",
    "We can calculate the flux of a star at some distance $d$ away as\n",
    "$$F = \\dfrac{L}{4 \\pi d^2}$$\n",
    "\n",
    "where $L$ is the Luminosity of the star (measured in W).\n",
    "\n",
    "**Absolute magnitude**: It is the magnitude of the star at a distance of 10 pc, and is related to the apparent magnitude by (and try to see if you can derive this):\n",
    "$$m-M = -5 + 5\\log_{10}(d)$$\n",
    "where $M$ is the absolute magnitude and $d$ is the distance of the star from us in parsecs (pc).\n",
    "To read up more about magnitudes, hit up this Wikipedia article - https://en.wikipedia.org/wiki/Magnitude_(astronomy%29.\n",
    "\n",
    "Using the above info and the earlier relation of distance and parallax, use the imported libraries to find the absolute magnitudes of all the stars of the csv file, and plot a histogram of the distribution, with 50 bins."
   ]
  },
  {
   "cell_type": "code",
   "execution_count": 2,
   "metadata": {
    "id": "kJpsPXK6sMZp"
   },
   "outputs": [
    {
     "data": {
      "text/plain": [
       "(array([ 1.,  1.,  1.,  0.,  2.,  3.,  1.,  3.,  0.,  2.,  1.,  4.,  2.,\n",
       "         5.,  4.,  3.,  1.,  1.,  3., 11.,  5.,  9.,  3.,  1.,  5.,  3.,\n",
       "         6.,  4.,  7.,  7.,  4.,  2.,  9.,  4.,  4.,  8.,  4.,  8.,  4.,\n",
       "         3., 11.,  5.,  6.,  5.,  1.,  6.,  3.,  2.,  3.,  5.]),\n",
       " array([-2.71998553, -2.53965415, -2.35932276, -2.17899138, -1.99866   ,\n",
       "        -1.81832862, -1.63799724, -1.45766586, -1.27733448, -1.0970031 ,\n",
       "        -0.91667172, -0.73634034, -0.55600896, -0.37567758, -0.1953462 ,\n",
       "        -0.01501482,  0.16531656,  0.34564794,  0.52597932,  0.70631071,\n",
       "         0.88664209,  1.06697347,  1.24730485,  1.42763623,  1.60796761,\n",
       "         1.78829899,  1.96863037,  2.14896175,  2.32929313,  2.50962451,\n",
       "         2.68995589,  2.87028727,  3.05061865,  3.23095003,  3.41128141,\n",
       "         3.59161279,  3.77194417,  3.95227556,  4.13260694,  4.31293832,\n",
       "         4.4932697 ,  4.67360108,  4.85393246,  5.03426384,  5.21459522,\n",
       "         5.3949266 ,  5.57525798,  5.75558936,  5.93592074,  6.11625212,\n",
       "         6.2965835 ]),\n",
       " <BarContainer object of 50 artists>)"
      ]
     },
     "execution_count": 2,
     "metadata": {},
     "output_type": "execute_result"
    },
    {
     "data": {
      "image/png": "[encoded data removed]",
      "text/plain": [
       "<Figure size 432x288 with 1 Axes>"
      ]
     },
     "metadata": {
      "needs_background": "light"
     },
     "output_type": "display_data"
    }
   ],
   "source": [
    "#Solution code\n",
    "data = data[data.Parallax != \"--\"]  #Removing 4 rows with incomplete information\n",
    "p = pd.to_numeric(data.Parallax)    #Converting Parallax comlumn to numeric datatype\n",
    "p_arcsec = p*(10**(-3))             #Converting milliarcsec to arcsec\n",
    "d = 1/p_arcsec                      #distances in parsec\n",
    "M = data.m + 5 - 5*np.log10(d)      #Absolute Magnitudes\n",
    "plt.hist(M, 50)"
   ]
  },
  {
   "cell_type": "markdown",
   "metadata": {
    "id": "GafdlK2-sinu"
   },
   "source": [
    "A good way to visualize the actual star cluster as it appears to us in the night sky would be to make a scatter plot of declination and RA on the $y$ and $x$ axes respectively. Try plotting the stars such that the star appears bigger if it is brighter. One way to do this is to make the size of dots in scatter plot proportional to (12 - apparent magnitude) of the star.\n",
    "\n",
    "(Hint: Google how to make a scatter plot with variable size of dots.)\n",
    "\n",
    "If you can't make a plot with variable dot sizes, make a simple plot with all dots of same size."
   ]
  },
  {
   "cell_type": "code",
   "execution_count": 3,
   "metadata": {
    "id": "JUu_c0zU6vFF"
   },
   "outputs": [
    {
     "data": {
      "text/plain": [
       "<matplotlib.collections.PathCollection at 0x1bf460bdb80>"
      ]
     },
     "execution_count": 3,
     "metadata": {},
     "output_type": "execute_result"
    },
    {
     "data": {
      "image/png": "[encoded data removed]",
      "text/plain": [
       "<Figure size 432x288 with 1 Axes>"
      ]
     },
     "metadata": {
      "needs_background": "light"
     },
     "output_type": "display_data"
    }
   ],
   "source": [
    "#Solution code\n",
    "plt.scatter(data.RA,data.Declination, s = (12 - data.m)*3)"
   ]
  },
  {
   "cell_type": "markdown",
   "metadata": {
    "id": "L2gMlFIy7Ucq"
   },
   "source": [
    "# **Question 2 : Estimating Age of Universe using Hubble's Law**\n",
    "\n",
    "In this problem, we will use Hubble's Law on a large number of galaxies, and fit the data to a linear model to find the value of the Hubble Constant, which we will use to calculate the current age of the universe.\n",
    "\n",
    "You can learn more about Hubble's Law, a very important principle of cosmology and expansion of Universe over here - https://simple.m.wikipedia.org/wiki/Hubble%27s_law \n",
    "\n",
    "Step 0: Importing libraries\n",
    "\n",
    "Dump all the required libraries, and define any necessary constants in the code box below.\n",
    "\n",
    "You will require the optimize module of scipy library, so be sure to include a line saying `from scipy.optimize import curve_fit`."
   ]
  },
  {
   "cell_type": "code",
   "execution_count": 4,
   "metadata": {
    "id": "DTpOG9Fr70Nc"
   },
   "outputs": [],
   "source": [
    "#import libraries and define constants\n",
    "import numpy as np\n",
    "from astropy import units as u\n",
    "from scipy.optimize import curve_fit as cf\n",
    "from matplotlib import pyplot as plt\n",
    "import pandas as pd"
   ]
  },
  {
   "cell_type": "markdown",
   "metadata": {
    "id": "b_Fes9_P78i_"
   },
   "source": [
    "Step 2: Loading the data\n",
    "\n",
    "Open the file \"data.txt\" and store it in array(s). First row contains the distance modulus (https://en.m.wikipedia.org/wiki/Distance_modulus) of the galaxy from earth, second row contains the line of sight velocity in km/s.\n",
    "\n",
    "To convert distance modulus to distance in Megaparsecs (the unit we will be using in the rest of the question), use the formula:\n",
    "\n",
    "$d = 10^{\\left(\\frac{d_{dist mod}}{5} - 5\\right)}$\n",
    "\n",
    "where $d$ is in megaparsecs (Mpc)."
   ]
  },
  {
   "cell_type": "code",
   "execution_count": 5,
   "metadata": {
    "id": "itgR16OO8jTb"
   },
   "outputs": [],
   "source": [
    "#Load data and convert it to useable form\n",
    "data2 = pd.read_csv(\"data.txt\")\n",
    "d = 10**((data2.mod0/5)-5)\n",
    "vel = data2.vgsr"
   ]
  },
  {
   "cell_type": "markdown",
   "metadata": {
    "id": "v8n0_bmv8rBu"
   },
   "source": [
    "Step 3: Preliminary Data Visualization\n",
    "\n",
    "Create a function taking the distance to the galaxy, and a slope and an intercept parameter as input, returning recession velocity of that galaxy as output. A code snippet showing how to use curve_fit to find the optimum slope and intercept is shown here - https://github.com/krittikaiitb/tutorials/blob/master/Tutorial_07/SciPy1.ipynb \n",
    "\n",
    "Create a scatter plot of the line of sight velocity of the galaxies (in km/s) vs the distance to the galaxies (in Mpc). Also plot the model you just fit in the same graph."
   ]
  },
  {
   "cell_type": "code",
   "execution_count": 6,
   "metadata": {
    "id": "PYqutdHI8yB6"
   },
   "outputs": [
    {
     "data": {
      "text/latex": [
       "$62.983634 \\; \\mathrm{\\frac{km}{Mpc\\,s}}$"
      ],
      "text/plain": [
       "<Quantity 62.98363409 km / (Mpc s)>"
      ]
     },
     "execution_count": 6,
     "metadata": {},
     "output_type": "execute_result"
    },
    {
     "data": {
      "image/png": "[encoded data removed]",
      "text/plain": [
       "<Figure size 432x288 with 1 Axes>"
      ]
     },
     "metadata": {
      "needs_background": "light"
     },
     "output_type": "display_data"
    }
   ],
   "source": [
    "#Create a best fit model and plot the data\n",
    "def line(x,m,c):\n",
    "    return m*x + c\n",
    "p_opt, p_cov = cf(line, d, vel)    #p_opt will contain m and c, m will be hubble constant\n",
    "plt.plot(d, line(d,*p_opt), label = 'Best fit', color = 'r')\n",
    "plt.scatter(d, vel, label = 'scatter', color = 'g')\n",
    "plt.xlabel('Distance')\n",
    "plt.ylabel('Velocity')\n",
    "H0 = p_opt[0]*(u.km/(u.s*u.Mpc))   #Hubble constant from entire data\n",
    "H0"
   ]
  },
  {
   "cell_type": "markdown",
   "metadata": {
    "id": "osng2Pxi84rx"
   },
   "source": [
    "Step 4: Removing Outliers (OPTIONAL)\n",
    "\n",
    "As you can see, there are many points on the outskirts of the graph, which may affect out calulations of the slope and intercept unduly. Devise a way to remove those outliers to your satisfaction, and replot the remaining data points. There are multiple ways to do this, a few of them could be:\n",
    "\n",
    "1. Removing all points whose distances are 3$\\times$(Standard Deviation of Distance from Earth) away from the Mean Distance of all input galaxies from Earth. (or take any factor other than 3)\n",
    "\n",
    "2. Removing all points which are a certain distance away from the best fit line initially calculated (decide yourself what to set this distance as, could be a factor of the mean distance from the line for all points)."
   ]
  },
  {
   "cell_type": "code",
   "execution_count": 7,
   "metadata": {
    "id": "0-RxWO9g9Lzd"
   },
   "outputs": [
    {
     "data": {
      "image/png": "[encoded data removed]",
      "text/plain": [
       "<Figure size 432x288 with 2 Axes>"
      ]
     },
     "metadata": {
      "needs_background": "light"
     },
     "output_type": "display_data"
    },
    {
     "name": "stdout",
     "output_type": "stream",
     "text": [
      "H1 = 79.5235039284301 km / (Mpc s) \n",
      " H2 = 66.90005275637361 km / (Mpc s)\n"
     ]
    }
   ],
   "source": [
    "#Remove outliers and replot the improved data\n",
    "\n",
    "import math\n",
    "\n",
    "#Method 1\n",
    "\n",
    "mean_d = np.mean(d)\n",
    "std_d = np.std(d)\n",
    "f1 = 3           #factor to multiply std_dev while filtering\n",
    "data3 = data2[abs(d - mean_d) < f1*std_d]    #filtered data from original\n",
    "d_cleaned1 = 10**((data3.mod0/5)-5)\n",
    "vel_cleaned1 = data3.vgsr\n",
    "\n",
    "p_opt_cleaned1, p_cov_cleaned1 = cf(line, d_cleaned1, vel_cleaned1)\n",
    "\n",
    "plt.subplot(1,2,1)\n",
    "plt.plot(d, line(d,*p_opt_cleaned1), label = 'Best fit (1)', color = 'r')\n",
    "plt.scatter(d_cleaned1, vel_cleaned1, label = 'scatter (1)', color = 'g')\n",
    "plt.title('Method 1')\n",
    "plt.xlabel('Distance')\n",
    "plt.ylabel('Velocity')\n",
    "H1 = p_opt_cleaned1[0]*u.km/(u.s*u.Mpc)\n",
    "\n",
    "\n",
    "#Method 2\n",
    "def perp(x,y,p_opt):\n",
    "    return (line(x,*p_opt)-y) / (math.sqrt(1 + p_opt[0]**2))   #perpendicular distance of a point from a line formula\n",
    "f2 = 100000000                             #factor to multiply mean of perpendicular distance for filtering\n",
    "perp_dist = perp(d, vel, p_opt)   \n",
    "mean_dist = abs(np.mean(perp_dist))\n",
    "data4 = data2[abs(perp_dist) < f2*mean_dist]     #filtered data as per method 2 from origianal data\n",
    "d_cleaned2 = 10**((data4.mod0/5)-5)\n",
    "vel_cleaned2 = data4.vgsr\n",
    "\n",
    "p_opt_cleaned2, p_cov_cleaned2 = cf(line, d_cleaned2, vel_cleaned2)\n",
    "\n",
    "plt.subplot(1,2,2)\n",
    "plt.plot(d, line(d,*p_opt_cleaned2), label = 'Best fit', color = 'r')\n",
    "plt.scatter(d_cleaned2, vel_cleaned2, label = 'scatter', color = 'g')\n",
    "plt.title('Method 2')\n",
    "plt.xlabel('Distance')\n",
    "plt.ylabel('Velocity')\n",
    "H2 = p_opt_cleaned2[0]*u.km/(u.s*u.Mpc)\n",
    "\n",
    "plt.subplots_adjust(right = 2)\n",
    "plt.show()\n",
    "\n",
    "print('H1 =', H1,'\\n H2 =',H2)\n",
    "\n",
    "\n",
    "#I feel the method 1 is better over method 2 because in method 1 we are filtering on the basis of standard statistical results on raw data solely but in method 2 we are filtering using manipulations done on raw data."
   ]
  },
  {
   "cell_type": "markdown",
   "metadata": {
    "id": "y0PXYi3V9QF0"
   },
   "source": [
    "# Step 5: Conclusion\n",
    "\n",
    "The slope of the graph (with recessional velocity in the y-axis and distance of the galaxy in the x-axis) gives us the Hubble Constant $H_0$ (in units km/s-Mpc). The reciprocal of the Hubble Constant is a good approximation for the age of the universe. Hence, find the age of the universe using your calculations."
   ]
  },
  {
   "cell_type": "code",
   "execution_count": 8,
   "metadata": {
    "id": "2u9oHjvS9gZf"
   },
   "outputs": [
    {
     "name": "stdout",
     "output_type": "stream",
     "text": [
      "Age of universe as per raw data :  15524544364.328682 yr\n",
      "Age of universe as per method 1 filtering data :  12295638061.431332 yr\n",
      "Age of universe as per method 2 filtering data :  14615716750.501879 yr\n"
     ]
    }
   ],
   "source": [
    "#Solution code\n",
    "age1 = 1/H1 \n",
    "age2 = 1/H2\n",
    "age_rawdata = 1/H0\n",
    "age1 = age1.to(u.yr)\n",
    "age2 = age2.to(u.yr)\n",
    "age_rawdata = age_rawdata.to(u.yr)\n",
    "print(\"Age of universe as per raw data : \",age_rawdata)\n",
    "print(\"Age of universe as per method 1 filtering data : \",age1)\n",
    "print(\"Age of universe as per method 2 filtering data : \",age2)"
   ]
  }
 ],
 "metadata": {
  "colab": {
   "authorship_tag": "ABX9TyNaK6XDBQKfATua5LP6gr1x",
   "collapsed_sections": [],
   "name": "CAB_Problem_Statement.ipynb",
   "provenance": []
  },
  "kernelspec": {
   "display_name": "Python 3",
   "language": "python",
   "name": "python3"
  },
  "language_info": {
   "codemirror_mode": {
    "name": "ipython",
    "version": 3
   },
   "file_extension": ".py",
   "mimetype": "text/x-python",
   "name": "python",
   "nbconvert_exporter": "python",
   "pygments_lexer": "ipython3",
   "version": "3.8.8"
  }
 },
 "nbformat": 4,
 "nbformat_minor": 1
}
